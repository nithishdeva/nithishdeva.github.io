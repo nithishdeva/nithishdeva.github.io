{
 "cells": [
  {
   "cell_type": "markdown",
   "metadata": {},
   "source": [
    "# Expected Calibration Error\n",
    "> \n"
   ]
  },
  {
   "cell_type": "markdown",
   "metadata": {},
   "source": [
    "ECE quantifies how much you can trust the class confidences your model gives. It is the difference between the predicted confidence and reality. "
   ]
  },
  {
   "cell_type": "markdown",
   "metadata": {},
   "source": [
    "## How to compute the Caliberation Error?"
   ]
  },
  {
   "cell_type": "markdown",
   "metadata": {},
   "source": [
    "Computing calibration error is simple. First run your model over a set of samples and collect all the predictions. We need to compute two things. The accuracy of the predictions and the average confidence of all the predictions. \n",
    "\n",
    "The absolute difference between the two is calibration error."
   ]
  },
  {
   "cell_type": "code",
   "execution_count": 38,
   "metadata": {},
   "outputs": [],
   "source": [
    "#hide\n",
    "import matplotlib\n",
    "import matplotlib.pyplot as plt\n",
    "import seaborn\n",
    "import numpy as np"
   ]
  },
  {
   "cell_type": "code",
   "execution_count": 39,
   "metadata": {},
   "outputs": [],
   "source": [
    "def compute_accuracy(predictions, targets):\n",
    "    assert predictions.shape==targets.shape\n",
    "    return np.mean(predictions==targets)\n",
    "\n",
    "def compute_caliberation_error(class_confidences, gt_idxs):\n",
    "    predicted_class_idxs = np.argmax(class_confidences,axis=1)\n",
    "    acc = compute_accuracy(predicted_class_idxs, gt_idxs)\n",
    "    conf = np.max(class_confidences,axis=1).mean()\n",
    "    return np.absolute(acc-conf),acc,conf"
   ]
  },
  {
   "cell_type": "markdown",
   "metadata": {},
   "source": [
    "## Expected Caliberation Error "
   ]
  },
  {
   "cell_type": "markdown",
   "metadata": {},
   "source": [
    "A classifier is said to be well calibrated if it has a low ECE. I came across Expected Calibration Error from a recent, aptly titled paper “[*Your classifier is secretly an energy based model and you should treat it like one*](https://arxiv.org/abs/1912.03263)”. It defines ECE as\n",
    "\n",
    "$$ECE = \\sum _{m=1}^{M} \\frac{|B_m|}{n} |acc(B_m) - conf(B_m)|$$"
   ]
  },
  {
   "cell_type": "markdown",
   "metadata": {},
   "source": [
    "To compute ECE of a model, we simply bins the predictions first. Then, calculate average of all the calibration errors. "
   ]
  },
  {
   "cell_type": "code",
   "execution_count": 40,
   "metadata": {},
   "outputs": [],
   "source": [
    "def expected_caliberation_error(class_confidences,gt_idxs, num_bins=20):\n",
    "    delta = 1.0/num_bins\n",
    "    predicted_confidences = np.max(class_confidences,axis=1)\n",
    "    data = []\n",
    "    for l in np.arange(0.0,1.0,delta):\n",
    "        h = l+delta\n",
    "        # bin the predictions\n",
    "        idxs = np.argwhere((predicted_confidences<=h) & (predicted_confidences>l)).flatten()\n",
    "        if len(idxs)==0:continue\n",
    "        \n",
    "        # compute caliberation error\n",
    "        ce,acc,conf = compute_caliberation_error(class_confidences[idxs,:], gt_idxs[idxs])\n",
    "        data.append([l,h,ce,acc,conf])\n",
    "    \n",
    "    # average the computed caliberation errors\n",
    "    ece = np.mean([ce for _,_,ce,_,_ in data])\n",
    "    return ece, data"
   ]
  },
  {
   "cell_type": "code",
   "execution_count": 41,
   "metadata": {},
   "outputs": [],
   "source": [
    "# hide\n",
    "from fastai.vision import *\n",
    "from fastai.metrics import error_rate\n",
    "import fastai\n",
    "# data\n",
    "path = untar_data(URLs.IMAGEWOOF_160)\n",
    "tfms = get_transforms()\n",
    "data = ImageDataBunch.from_folder(path, train='train', valid='val', ds_tfms = tfms,size=160)\n",
    "# learner\n",
    "learner = cnn_learner(data, models.resnet18, metrics=[accuracy, error_rate])\n",
    "learner.freeze()\n",
    "# learner.save('stage-0')\n",
    "# learner.fit(3)\n",
    "# learner.save('stage-1')"
   ]
  },
  {
   "cell_type": "markdown",
   "metadata": {},
   "source": [
    "For testing, I fine-tuned a model with resnet18 stem and computed predictions over [ImageWoof](https://github.com/fastai/imagenette) dataset. "
   ]
  },
  {
   "cell_type": "code",
   "execution_count": 42,
   "metadata": {},
   "outputs": [],
   "source": [
    "#hide\n",
    "def plot_figure(x,y,delta):\n",
    "    plt.figure(figsize=(5,5))\n",
    "    axes = plt.gca()\n",
    "    axes.set_xlim([0,1.0])\n",
    "    axes.set_ylim([0,1.0])\n",
    "    axes.set_xlabel(\"confidence\")\n",
    "    axes.set_ylabel(\"accuracy\")\n",
    "    axes.axis('equal')\n",
    "    axes.set_aspect('equal', 'box')\n",
    "    plt.bar(x,y,width=0.9*delta,color=\"red\")#,\"ob\")\n",
    "    plt.plot([0,1],[0,1],\"--\",color=\"grey\")\n",
    "    plt.title(f\"ECE:{round(ece,4)}\")\n",
    "    plt.show()"
   ]
  },
  {
   "cell_type": "markdown",
   "metadata": {},
   "source": [
    "Before training, the model has very high ECE"
   ]
  },
  {
   "cell_type": "code",
   "execution_count": 43,
   "metadata": {},
   "outputs": [
    {
     "data": {
      "text/html": [],
      "text/plain": [
       "<IPython.core.display.HTML object>"
      ]
     },
     "metadata": {},
     "output_type": "display_data"
    }
   ],
   "source": [
    "learner.load('stage-0');\n",
    "probs, targets = learner.get_preds()\n",
    "class_confidences ,gt_idxs = probs.numpy(), targets.numpy()\n",
    "ece, data = expected_caliberation_error(class_confidences,gt_idxs)"
   ]
  },
  {
   "cell_type": "code",
   "execution_count": 44,
   "metadata": {},
   "outputs": [],
   "source": [
    "# hide\n",
    "x = [l for l,h,ce,acc,conf in data]\n",
    "y = [acc for l,h,ce,acc,conf in data]\n",
    "delta = 1.0/20"
   ]
  },
  {
   "cell_type": "code",
   "execution_count": 45,
   "metadata": {},
   "outputs": [
    {
     "data": {
      "image/png": "[encoded data removed]",
      "text/plain": [
       "<Figure size 360x360 with 1 Axes>"
      ]
     },
     "metadata": {
      "needs_background": "light"
     },
     "output_type": "display_data"
    }
   ],
   "source": [
    "plot_figure(x,y,delta)"
   ]
  },
  {
   "cell_type": "markdown",
   "metadata": {},
   "source": [
    "After training, ECE has considerably reduced. "
   ]
  },
  {
   "cell_type": "code",
   "execution_count": 46,
   "metadata": {},
   "outputs": [
    {
     "data": {
      "text/html": [],
      "text/plain": [
       "<IPython.core.display.HTML object>"
      ]
     },
     "metadata": {},
     "output_type": "display_data"
    }
   ],
   "source": [
    "learner.load('stage-1');\n",
    "probs, targets = learner.get_preds()\n",
    "class_confidences, gt_idxs = probs.numpy(), targets.numpy()\n",
    "ece, data = expected_caliberation_error(class_confidences,gt_idxs)"
   ]
  },
  {
   "cell_type": "code",
   "execution_count": 47,
   "metadata": {},
   "outputs": [],
   "source": [
    "# hide\n",
    "x = [l for l,h,ce,acc,conf in data]\n",
    "y = [acc for l,h,ce,acc,conf in data]\n",
    "delta = 1.0/20"
   ]
  },
  {
   "cell_type": "code",
   "execution_count": 48,
   "metadata": {},
   "outputs": [
    {
     "data": {
      "image/png": "[encoded data removed]",
      "text/plain": [
       "<Figure size 360x360 with 1 Axes>"
      ]
     },
     "metadata": {
      "needs_background": "light"
     },
     "output_type": "display_data"
    }
   ],
   "source": [
    "plot_figure(x,y,delta)"
   ]
  },
  {
   "cell_type": "code",
   "execution_count": 4,
   "metadata": {},
   "outputs": [],
   "source": [
    "# hide\n",
    "! sh finalise.sh 2020-01-20-expected-caliberation-error"
   ]
  },
  {
   "cell_type": "code",
   "execution_count": null,
   "metadata": {},
   "outputs": [],
   "source": []
  }
 ],
 "metadata": {
  "kernelspec": {
   "display_name": "Python 3",
   "language": "python",
   "name": "python3"
  },
  "language_info": {
   "codemirror_mode": {
    "name": "ipython",
    "version": 3
   },
   "file_extension": ".py",
   "mimetype": "text/x-python",
   "name": "python",
   "nbconvert_exporter": "python",
   "pygments_lexer": "ipython3",
   "version": "3.7.6"
  }
 },
 "nbformat": 4,
 "nbformat_minor": 4
}
