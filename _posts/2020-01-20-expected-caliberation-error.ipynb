{
 "cells": [
  {
   "cell_type": "markdown",
   "metadata": {},
   "source": [
    "# Expected Calibration Error\n",
    "\n",
    "> How  much can you trust your classifiers's confidences."
   ]
  },
  {
   "cell_type": "markdown",
   "metadata": {},
   "source": [
    "A classifier is said to be well calibrated if the confidence of its prediction reflects the actual errors in its prediction. i.e of all the prediction with 90% confidence, how many are right predictions. If the fraction of predictions with 90% confidence is also 90%, then the model is well calibrated.\n",
    "\n",
    "I came across Expected Calibration Error from a recent, aptly titled paper “Your classifier is secretly an energy based model and you should treat it like one”. It is defined as\n",
    "\n",
    "$$ECE = \\sum _{m=1}^{M} \\frac{|B_m|}{n} |acc(B_m) - conf(B_m)|$$\n",
    "\n",
    "To compute ECE we first find all the confidences of prediction from our classifier $\\max_y p(y\\|x_i)$. Then we divide the probability range $[0,1]$ into $M$ equally spaced bins. My experiments with $M=20$ to $2000$ provided not much significance in result. So all report here are with $M=20$.\n",
    "\n",
    "Here is the code to compute ECE which also makes a wonderful plot of accuracy vs confidence."
   ]
  },
  {
   "cell_type": "markdown",
   "metadata": {},
   "source": [
    "## Code"
   ]
  },
  {
   "cell_type": "code",
   "execution_count": 4,
   "metadata": {},
   "outputs": [],
   "source": [
    "# hide\n",
    "from fastai.vision import *\n",
    "from fastai.metrics import error_rate\n",
    "import fastai\n",
    "import matplotlib\n",
    "import matplotlib.pyplot as plt\n",
    "import numpy as np"
   ]
  },
  {
   "cell_type": "code",
   "execution_count": 5,
   "metadata": {},
   "outputs": [],
   "source": [
    "M=20\n",
    "delta = 1/M\n",
    "def get_caliberation(probs,targets, M=10):\n",
    "    \n",
    "    L = [\n",
    "        (t.item(), p.argmax().item(),p.max().item())\n",
    "        for p,t in zip(probs,targets)\n",
    "    ]\n",
    "    \n",
    "    n = len(L)\n",
    "    delta = 1.0/M\n",
    "    D = []\n",
    "    P = []\n",
    "    \n",
    "    for l,h in zip(np.arange(0.0,1.0,delta),np.arange(0.0+delta,1.0+delta,delta)):\n",
    "        \n",
    "        LL = list(filter(lambda r:l<=r[2]<h,L))\n",
    "        bin_size = len(LL)\n",
    "        if bin_size==0:\n",
    "            # nothing in bin\n",
    "            continue\n",
    "            \n",
    "        acc  = np.mean([p==t for (t,p,pr) in LL])\n",
    "        conf = np.mean([pr for (t,p,pr) in LL])\n",
    "        \n",
    "        calib_interval = bin_size/n*abs(acc-conf)\n",
    "        \n",
    "        P.append((l,acc))\n",
    "        D.append(calib_interval)\n",
    "    x,y = zip(*P)\n",
    "    return x,y,np.sum(D)"
   ]
  },
  {
   "cell_type": "code",
   "execution_count": 6,
   "metadata": {},
   "outputs": [],
   "source": [
    "# data\n",
    "path = untar_data(URLs.IMAGEWOOF_160)\n",
    "tfms = get_transforms()\n",
    "data = ImageDataBunch.from_folder(path, train='train', valid='val', ds_tfms = tfms,size=160)\n",
    "learner = cnn_learner(data, models.resnet18, metrics=[accuracy, error_rate])"
   ]
  },
  {
   "cell_type": "code",
   "execution_count": null,
   "metadata": {},
   "outputs": [],
   "source": [
    "# learner\n",
    "learner.freeze()\n",
    "learner.fit(10)\n",
    "learner.save('stage-1')"
   ]
  },
  {
   "cell_type": "code",
   "execution_count": null,
   "metadata": {},
   "outputs": [],
   "source": []
  },
  {
   "cell_type": "code",
   "execution_count": 8,
   "metadata": {},
   "outputs": [],
   "source": [
    "# hide\n",
    "learner.load('stage-1');"
   ]
  },
  {
   "cell_type": "code",
   "execution_count": 9,
   "metadata": {},
   "outputs": [
    {
     "data": {
      "text/html": [],
      "text/plain": [
       "<IPython.core.display.HTML object>"
      ]
     },
     "metadata": {},
     "output_type": "display_data"
    }
   ],
   "source": [
    "# predictions\n",
    "probs, targets = learner.get_preds()\n",
    "x,y,ece = get_caliberation(probs,targets,M=M)"
   ]
  },
  {
   "cell_type": "markdown",
   "metadata": {},
   "source": [
    "Now lets plot the accuracy vs confidences of the classifier"
   ]
  },
  {
   "cell_type": "code",
   "execution_count": 10,
   "metadata": {},
   "outputs": [
    {
     "data": {
      "image/png": "[encoded data removed]",
      "text/plain": [
       "<Figure size 432x288 with 1 Axes>"
      ]
     },
     "metadata": {
      "needs_background": "light"
     },
     "output_type": "display_data"
    }
   ],
   "source": [
    "# plot\n",
    "axes = plt.gca()\n",
    "axes.set_xlim([0,1.0])\n",
    "axes.set_ylim([0,1.0])\n",
    "axes.set_xlabel(\"confidence\")\n",
    "axes.set_ylabel(\"accuracy\")\n",
    "axes.axis('equal')\n",
    "axes.set_aspect('equal', 'box')\n",
    "plt.bar(x,y,width=0.9*delta,color=\"red\")#,\"ob\")\n",
    "plt.plot([0,1],[0,1],\"--\",color=\"grey\")\n",
    "plt.show()"
   ]
  },
  {
   "cell_type": "code",
   "execution_count": 12,
   "metadata": {},
   "outputs": [
    {
     "name": "stdout",
     "output_type": "stream",
     "text": [
      "2020-01-20-expected-caliberation-error_files/\n"
     ]
    }
   ],
   "source": [
    "# hide\n",
    "! nbdev_nb2md 2020-01-20-expected-caliberation-error.ipynb \n",
    "! python finalise.py 2020-01-20-expected-caliberation-error.md \n",
    "! cp -r 2020-01-20-expected-caliberation-error_files ../images/\n",
    "! rm -r 2020-01-20-expected-caliberation-error_files"
   ]
  },
  {
   "cell_type": "code",
   "execution_count": null,
   "metadata": {},
   "outputs": [],
   "source": []
  }
 ],
 "metadata": {
  "kernelspec": {
   "display_name": "Python 3",
   "language": "python",
   "name": "python3"
  },
  "language_info": {
   "codemirror_mode": {
    "name": "ipython",
    "version": 3
   },
   "file_extension": ".py",
   "mimetype": "text/x-python",
   "name": "python",
   "nbconvert_exporter": "python",
   "pygments_lexer": "ipython3",
   "version": "3.7.3"
  }
 },
 "nbformat": 4,
 "nbformat_minor": 4
}
