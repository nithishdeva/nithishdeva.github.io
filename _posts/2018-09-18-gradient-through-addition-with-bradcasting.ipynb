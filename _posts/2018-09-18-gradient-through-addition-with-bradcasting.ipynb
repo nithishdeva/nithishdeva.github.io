{
 "cells": [
  {
   "cell_type": "markdown",
   "metadata": {},
   "source": [
    "# Gradient Through Addition with broadcasting\n",
    "> \n"
   ]
  },
  {
   "cell_type": "markdown",
   "metadata": {},
   "source": [
    "Calculating gradient across an addition op is considered a simple algebra trick. But addition of tensors in real applications allow broadcasting. In this post, we examine how to compute gradient even in such situations.  Let us begin with fundamentals."
   ]
  },
  {
   "cell_type": "markdown",
   "metadata": {},
   "source": [
    "## Gradient of Addition\n",
    "\n",
    "Consider a simple sequence of operations. $A$ and $B$ are inputs which ultimately leads to computation of a scalar loss/error term $l$. \n",
    "\n",
    "$$\n",
    " \\begin{aligned}\n",
    "  z &= A+B\n",
    "  \\\\\n",
    "  l &\\dashleftarrow z\n",
    " \\end{aligned}\n",
    "$$\n",
    "\n",
    "We are interested in the gradient of both the inputs w.r.to $l$. Lets just go ahead and apply chin rule to get\n",
    "\n",
    "$$\n",
    "\\begin{aligned}\n",
    "  \\frac{\\partial l}{\\partial A} &= \\frac{\\partial l}{\\partial z}\n",
    "  \\\\ \n",
    "  \\frac{\\partial l}{\\partial B} &= \\frac{\\partial l}{\\partial z}\n",
    "\\end{aligned}\n",
    "$$"
   ]
  },
  {
   "cell_type": "markdown",
   "metadata": {},
   "source": [
    "## Addition in Neural Networks.\n",
    "\n",
    "Lets examine how addition in a feed forward layer is computed. This revels how additions are generally done in real use cases. Consider a simple linear feed forward layer with $x$ as input. The transformation of the layer is given by\n",
    "\n",
    "$$\n",
    "\\begin{aligned}\n",
    "  z &= W^Tx+b\n",
    "  \\\\\n",
    "  l &\\dashleftarrow z\n",
    "\\end{aligned}$$\n",
    "\n",
    "The gradients of the parameters w.r.to the loss terms are \n",
    "\n",
    "$$\n",
    "\\begin{aligned}\n",
    "  \\frac{\\partial l}{\\partial b} &=\\frac{\\partial l}{\\partial z}\n",
    "  \\\\\n",
    "  \\frac{\\partial l}{\\partial W} &= x \\frac{\\partial l}{\\partial z}^T\n",
    "\\end{aligned}\n",
    "$$\n",
    "\n",
    "$W^Tx$ is a vector which is of same size dimensions as $b$ if $x$ is also a vector. But in practise, networks are always trained with min-batches of samples  at a time. Which makes $x$ a 2 dimensional tensor and suddenly the quantities $W^Tx$ and $b$ have different dimensions. "
   ]
  },
  {
   "cell_type": "markdown",
   "metadata": {},
   "source": [
    "## Addition with broadcasting\n",
    "\n",
    "An implicit assumption we make while adding two multi dimensional quantities is that their dimensions always match. But numerical frameworks allow addition even when the dimensions of the operands are not the same. This is called addition with broadcasting."
   ]
  },
  {
   "cell_type": "code",
   "execution_count": 1,
   "metadata": {},
   "outputs": [],
   "source": [
    "#hide\n",
    "import numpy as np"
   ]
  },
  {
   "cell_type": "code",
   "execution_count": 2,
   "metadata": {},
   "outputs": [
    {
     "name": "stdout",
     "output_type": "stream",
     "text": [
      "(2, 3) (4, 2, 3) (4, 2, 3)\n",
      "[[[2. 2. 2.]\n",
      "  [2. 2. 2.]]\n",
      "\n",
      " [[2. 2. 2.]\n",
      "  [2. 2. 2.]]\n",
      "\n",
      " [[2. 2. 2.]\n",
      "  [2. 2. 2.]]\n",
      "\n",
      " [[2. 2. 2.]\n",
      "  [2. 2. 2.]]]\n"
     ]
    }
   ],
   "source": [
    "#hide\n",
    "A = np.ones([2,3])\n",
    "B = np.ones([4,2,3])\n",
    "C = A+B\n",
    "print(A.shape, B.shape, C.shape)\n",
    "print(C)"
   ]
  },
  {
   "cell_type": "markdown",
   "metadata": {},
   "source": [
    "Addition is allowed if the arrays are broadcast compatible with each other. [Numpy's docs](https://docs.scipy.org/doc/numpy/user/basics.broadcasting.html) describes two arrays are broadcast compatible if there dimensions are compatible. Two dimensions are compatible if they are \n",
    "\n",
    "1. Equal\n",
    "2. one of them is 1\n",
    "\n",
    "When arrays do not have same number of dimensions, the arrays are compatible if the smaller array's dimensions can be stretched to both sides by simply adding dimensions of 1 and then the dimensions of both arrays become compatible."
   ]
  },
  {
   "cell_type": "markdown",
   "metadata": {},
   "source": [
    "## Gradient through Broadcasting\n",
    "\n",
    "Lets unwrap what actually happens during a broadcast operation. For simplicity, lets say we are trying to add two tensors $A$ and $B$. $A$ and $B$ agree on all dimensions except the last where A has a dimension of size $3$ while $B$ is dimensionless. \n",
    "\n",
    "In this case, $B$ would be broadcast over $A$ to facilitate the addition as follows. \n",
    "\n",
    "$$\n",
    "\\begin{aligned}\n",
    "A+B &=\\begin{bmatrix} A_{:,0} & A_{:,1} & A_{:,2} \\end{bmatrix}+B \n",
    "\\\\&= \n",
    "\\begin{bmatrix} A_{:,0} & A_{:,1} & A_{:,2} \\end{bmatrix}+\\begin{bmatrix} B & B & B \\end{bmatrix}\n",
    "\\\\&=\n",
    "\\begin{bmatrix} A_{:,0}+B & A_{:,1}+B & A_{:,2}+B \\end{bmatrix}\n",
    "\\end{aligned}\n",
    "$$"
   ]
  },
  {
   "cell_type": "markdown",
   "metadata": {},
   "source": [
    "This allows us to visualize the computations better. For the following computation,  \n",
    "\n",
    "$$\n",
    " \\begin{aligned}\n",
    "  z &= A+B\n",
    "  \\\\\n",
    "  l &\\dashleftarrow z\n",
    " \\end{aligned}\n",
    "$$\n",
    "\n",
    "we know that $\\frac{\\partial l}{\\partial A}$ remains the same. But $\\frac{\\partial l}{\\partial B}$ is for the tensor that has been broadcast and hence needs to be adjusted. The gradient needs to be amplified by the factor of the broadcasting. Hence\n",
    "\n",
    "\n",
    "$$\\frac{\\partial l}{\\partial B} = \\mathbf{n}\\frac{\\partial l}{\\partial z}$$ \n",
    "\n",
    "\n",
    "A curious case to note here that, the gradient of parameter $B$ has a dimension of $A$ in it and hence is dependent on size of $A$. This might be the reason for differing behaviour of neural networks when they are trained with different batch sizes.  "
   ]
  },
  {
   "cell_type": "code",
   "execution_count": 10,
   "metadata": {},
   "outputs": [],
   "source": [
    "# hide\n",
    "! sh finalise.sh 2018-09-18-gradient-through-addition-with-bradcasting"
   ]
  }
 ],
 "metadata": {
  "kernelspec": {
   "display_name": "Python 3",
   "language": "python",
   "name": "python3"
  },
  "language_info": {
   "codemirror_mode": {
    "name": "ipython",
    "version": 3
   },
   "file_extension": ".py",
   "mimetype": "text/x-python",
   "name": "python",
   "nbconvert_exporter": "python",
   "pygments_lexer": "ipython3",
   "version": "3.7.6"
  }
 },
 "nbformat": 4,
 "nbformat_minor": 4
}
